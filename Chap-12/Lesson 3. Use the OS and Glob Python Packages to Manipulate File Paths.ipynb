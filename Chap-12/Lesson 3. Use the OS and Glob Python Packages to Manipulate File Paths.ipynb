{
 "cells": [
  {
   "cell_type": "markdown",
   "id": "624944ee",
   "metadata": {},
   "source": [
    "## Download Files Using EarthPy\n"
   ]
  },
  {
   "cell_type": "code",
   "execution_count": 1,
   "id": "c1a04b77",
   "metadata": {},
   "outputs": [],
   "source": [
    "# Imaport necessary packages\n",
    "import os\n",
    "from glob import glob\n",
    "\n",
    "import earthpy as et"
   ]
  },
  {
   "cell_type": "code",
   "execution_count": 3,
   "id": "5456a6b3",
   "metadata": {},
   "outputs": [
    {
     "name": "stdout",
     "output_type": "stream",
     "text": [
      "Downloading from https://ndownloader.figshare.com/files/21894528\n",
      "Extracted output to C:\\Users\\fnasr\\earth-analytics\\data\\earthpy-downloads\\avg-monthly-temp-fahr\n"
     ]
    },
    {
     "data": {
      "text/plain": [
       "'C:\\\\Users\\\\fnasr\\\\earth-analytics\\\\data\\\\earthpy-downloads\\\\avg-monthly-temp-fahr'"
      ]
     },
     "execution_count": 3,
     "metadata": {},
     "output_type": "execute_result"
    }
   ],
   "source": [
    "# Download data on average monthly temp for two California sites\n",
    "file_url = \"https://ndownloader.figshare.com/files/21894528\"\n",
    "et.data.get_data(url=file_url)"
   ]
  },
  {
   "cell_type": "code",
   "execution_count": 5,
   "id": "9808dfaf",
   "metadata": {},
   "outputs": [],
   "source": [
    "# Set working directory to earth-analytics\n",
    "os.chdir(os.path.join(et.io.HOME, \"earth-analytics\"))\n",
    "\n",
    "# Create a path to the data folder\n",
    "data_folder = os.path.join(\"data\", \"earthpy-downloads\", \n",
    "                           \"avg-monthly-temp-fahr\")"
   ]
  },
  {
   "cell_type": "code",
   "execution_count": 8,
   "id": "0f45bb20",
   "metadata": {},
   "outputs": [
    {
     "data": {
      "text/plain": [
       "['data\\\\earthpy-downloads\\\\avg-monthly-temp-fahr']"
      ]
     },
     "execution_count": 8,
     "metadata": {},
     "output_type": "execute_result"
    }
   ],
   "source": [
    "# Get a specific directory\n",
    "file_list = glob(data_folder)\n",
    "\n",
    "file_list"
   ]
  },
  {
   "cell_type": "code",
   "execution_count": 9,
   "id": "cb5c494a",
   "metadata": {},
   "outputs": [
    {
     "data": {
      "text/plain": [
       "list"
      ]
     },
     "execution_count": 9,
     "metadata": {},
     "output_type": "execute_result"
    }
   ],
   "source": [
    "type(file_list)"
   ]
  },
  {
   "cell_type": "code",
   "execution_count": 11,
   "id": "e5a6906f",
   "metadata": {},
   "outputs": [
    {
     "data": {
      "text/plain": [
       "['data\\\\earthpy-downloads\\\\avg-monthly-temp-fahr\\\\San-Diego\\\\San-Diego-1999-temp.csv']"
      ]
     },
     "execution_count": 11,
     "metadata": {},
     "output_type": "execute_result"
    }
   ],
   "source": [
    "# Create a list containing a specific file name\n",
    "glob(os.path.join(data_folder, 'San-Diego', 'San-Diego-1999-temp.csv'))"
   ]
  },
  {
   "cell_type": "code",
   "execution_count": 12,
   "id": "f544bb2e",
   "metadata": {},
   "outputs": [
    {
     "data": {
      "text/plain": [
       "['data\\\\earthpy-downloads\\\\avg-monthly-temp-fahr\\\\San-Diego',\n",
       " 'data\\\\earthpy-downloads\\\\avg-monthly-temp-fahr\\\\Sonoma']"
      ]
     },
     "execution_count": 12,
     "metadata": {},
     "output_type": "execute_result"
    }
   ],
   "source": [
    "# Get list of all files/dirs in data folder\n",
    "glob(os.path.join(data_folder,'*'))"
   ]
  },
  {
   "cell_type": "code",
   "execution_count": 13,
   "id": "15cb2e2e",
   "metadata": {},
   "outputs": [
    {
     "data": {
      "text/plain": [
       "['data\\\\earthpy-downloads\\\\avg-monthly-temp-fahr\\\\San-Diego\\\\San-Diego-1999-temp.csv',\n",
       " 'data\\\\earthpy-downloads\\\\avg-monthly-temp-fahr\\\\San-Diego\\\\San-Diego-2000-temp.csv',\n",
       " 'data\\\\earthpy-downloads\\\\avg-monthly-temp-fahr\\\\San-Diego\\\\San-Diego-2001-temp.csv',\n",
       " 'data\\\\earthpy-downloads\\\\avg-monthly-temp-fahr\\\\San-Diego\\\\San-Diego-2002-temp.csv',\n",
       " 'data\\\\earthpy-downloads\\\\avg-monthly-temp-fahr\\\\San-Diego\\\\San-Diego-2003-temp.csv']"
      ]
     },
     "execution_count": 13,
     "metadata": {},
     "output_type": "execute_result"
    }
   ],
   "source": [
    "# Get list of all files/dirs in San-Diego folder\n",
    "glob(os.path.join(data_folder,'San-Diego', '*'))"
   ]
  },
  {
   "cell_type": "code",
   "execution_count": 14,
   "id": "3cc5c7ff",
   "metadata": {},
   "outputs": [
    {
     "data": {
      "text/plain": [
       "['data\\\\earthpy-downloads\\\\avg-monthly-temp-fahr\\\\San-Diego\\\\San-Diego-1999-temp.csv',\n",
       " 'data\\\\earthpy-downloads\\\\avg-monthly-temp-fahr\\\\San-Diego\\\\San-Diego-2000-temp.csv',\n",
       " 'data\\\\earthpy-downloads\\\\avg-monthly-temp-fahr\\\\San-Diego\\\\San-Diego-2001-temp.csv',\n",
       " 'data\\\\earthpy-downloads\\\\avg-monthly-temp-fahr\\\\San-Diego\\\\San-Diego-2002-temp.csv',\n",
       " 'data\\\\earthpy-downloads\\\\avg-monthly-temp-fahr\\\\San-Diego\\\\San-Diego-2003-temp.csv']"
      ]
     },
     "execution_count": 14,
     "metadata": {},
     "output_type": "execute_result"
    }
   ],
   "source": [
    "# Get only csv files\n",
    "glob(os.path.join(data_folder,'San-Diego', '*.csv'))"
   ]
  },
  {
   "cell_type": "code",
   "execution_count": 18,
   "id": "d3ef8ceb",
   "metadata": {},
   "outputs": [
    {
     "data": {
      "text/plain": [
       "['data\\\\earthpy-downloads\\\\avg-monthly-temp-fahr\\\\San-Diego\\\\San-Diego-2000-temp.csv',\n",
       " 'data\\\\earthpy-downloads\\\\avg-monthly-temp-fahr\\\\San-Diego\\\\San-Diego-2001-temp.csv',\n",
       " 'data\\\\earthpy-downloads\\\\avg-monthly-temp-fahr\\\\San-Diego\\\\San-Diego-2002-temp.csv',\n",
       " 'data\\\\earthpy-downloads\\\\avg-monthly-temp-fahr\\\\San-Diego\\\\San-Diego-2003-temp.csv']"
      ]
     },
     "execution_count": 18,
     "metadata": {},
     "output_type": "execute_result"
    }
   ],
   "source": [
    "# Use multiple wildcards\n",
    "glob(os.path.join(data_folder, 'San-Diego', '*2*.csv'))"
   ]
  },
  {
   "cell_type": "code",
   "execution_count": 20,
   "id": "aa784b98",
   "metadata": {},
   "outputs": [
    {
     "data": {
      "text/plain": [
       "['data\\\\earthpy-downloads\\\\avg-monthly-temp-fahr\\\\San-Diego\\\\San-Diego-1999-temp.csv',\n",
       " 'data\\\\earthpy-downloads\\\\avg-monthly-temp-fahr\\\\San-Diego\\\\San-Diego-2000-temp.csv',\n",
       " 'data\\\\earthpy-downloads\\\\avg-monthly-temp-fahr\\\\San-Diego\\\\San-Diego-2001-temp.csv',\n",
       " 'data\\\\earthpy-downloads\\\\avg-monthly-temp-fahr\\\\San-Diego\\\\San-Diego-2002-temp.csv',\n",
       " 'data\\\\earthpy-downloads\\\\avg-monthly-temp-fahr\\\\San-Diego\\\\San-Diego-2003-temp.csv',\n",
       " 'data\\\\earthpy-downloads\\\\avg-monthly-temp-fahr\\\\Sonoma\\\\Sonoma-1999-temp.csv',\n",
       " 'data\\\\earthpy-downloads\\\\avg-monthly-temp-fahr\\\\Sonoma\\\\Sonoma-2000-temp.csv',\n",
       " 'data\\\\earthpy-downloads\\\\avg-monthly-temp-fahr\\\\Sonoma\\\\Sonoma-2001-temp.csv',\n",
       " 'data\\\\earthpy-downloads\\\\avg-monthly-temp-fahr\\\\Sonoma\\\\Sonoma-2002-temp.csv',\n",
       " 'data\\\\earthpy-downloads\\\\avg-monthly-temp-fahr\\\\Sonoma\\\\Sonoma-2003-temp.csv']"
      ]
     },
     "execution_count": 20,
     "metadata": {},
     "output_type": "execute_result"
    }
   ],
   "source": [
    "# Search recursively through both site folders\n",
    "glob(os.path.join(data_folder, '*', '*'))"
   ]
  },
  {
   "cell_type": "code",
   "execution_count": 26,
   "id": "0c33b91a",
   "metadata": {},
   "outputs": [],
   "source": [
    "# Get list of CSVs in Sonoma directory\n",
    "sonoma_files = glob(os.path.join(data_folder, 'Sonoma', '*.csv'))\n",
    "\n",
    "#Sort glob list\n",
    "sonoma_files.sort()"
   ]
  },
  {
   "cell_type": "code",
   "execution_count": 27,
   "id": "68617b9e",
   "metadata": {},
   "outputs": [
    {
     "data": {
      "text/plain": [
       "['data\\\\earthpy-downloads\\\\avg-monthly-temp-fahr\\\\San-Diego\\\\San-Diego-2001-temp.csv',\n",
       " 'data\\\\earthpy-downloads\\\\avg-monthly-temp-fahr\\\\San-Diego\\\\San-Diego-2002-temp.csv',\n",
       " 'data\\\\earthpy-downloads\\\\avg-monthly-temp-fahr\\\\San-Diego\\\\San-Diego-2003-temp.csv',\n",
       " 'data\\\\earthpy-downloads\\\\avg-monthly-temp-fahr\\\\Sonoma\\\\Sonoma-2001-temp.csv',\n",
       " 'data\\\\earthpy-downloads\\\\avg-monthly-temp-fahr\\\\Sonoma\\\\Sonoma-2002-temp.csv',\n",
       " 'data\\\\earthpy-downloads\\\\avg-monthly-temp-fahr\\\\Sonoma\\\\Sonoma-2003-temp.csv']"
      ]
     },
     "execution_count": 27,
     "metadata": {},
     "output_type": "execute_result"
    }
   ],
   "source": [
    "# Get files for 2001-2003\n",
    "glob(os.path.join(data_folder, '*', '*200[1-3]*'))"
   ]
  },
  {
   "cell_type": "markdown",
   "id": "577b6346",
   "metadata": {},
   "source": [
    "## ? Operator"
   ]
  },
  {
   "cell_type": "code",
   "execution_count": 28,
   "id": "5109c616",
   "metadata": {},
   "outputs": [
    {
     "data": {
      "text/plain": [
       "['data\\\\earthpy-downloads\\\\avg-monthly-temp-fahr\\\\sonoma\\\\Sonoma-2000-temp.csv',\n",
       " 'data\\\\earthpy-downloads\\\\avg-monthly-temp-fahr\\\\sonoma\\\\Sonoma-2001-temp.csv',\n",
       " 'data\\\\earthpy-downloads\\\\avg-monthly-temp-fahr\\\\sonoma\\\\Sonoma-2002-temp.csv',\n",
       " 'data\\\\earthpy-downloads\\\\avg-monthly-temp-fahr\\\\sonoma\\\\Sonoma-2003-temp.csv']"
      ]
     },
     "execution_count": 28,
     "metadata": {},
     "output_type": "execute_result"
    }
   ],
   "source": [
    "# ? operator used for last value in year\n",
    "glob(os.path.join(data_folder,'sonoma', '*200?-temp.csv'))"
   ]
  },
  {
   "cell_type": "code",
   "execution_count": 32,
   "id": "1966a93c",
   "metadata": {},
   "outputs": [
    {
     "data": {
      "text/plain": [
       "['data\\\\earthpy-downloads\\\\avg-monthly-temp-fahr\\\\sonoma\\\\Sonoma-1999-temp.csv']"
      ]
     },
     "execution_count": 32,
     "metadata": {},
     "output_type": "execute_result"
    }
   ],
   "source": [
    "# Multiple ? operators\n",
    "glob(os.path.join(data_folder,'sonoma', '*19??-temp.csv'))"
   ]
  },
  {
   "cell_type": "code",
   "execution_count": 34,
   "id": "38a95875",
   "metadata": {},
   "outputs": [
    {
     "data": {
      "text/plain": [
       "['data\\\\earthpy-downloads\\\\avg-monthly-temp-fahr\\\\San-Diego\\\\San-Diego-1999-temp.csv',\n",
       " 'data\\\\earthpy-downloads\\\\avg-monthly-temp-fahr\\\\San-Diego\\\\San-Diego-2000-temp.csv',\n",
       " 'data\\\\earthpy-downloads\\\\avg-monthly-temp-fahr\\\\San-Diego\\\\San-Diego-2001-temp.csv',\n",
       " 'data\\\\earthpy-downloads\\\\avg-monthly-temp-fahr\\\\San-Diego\\\\San-Diego-2002-temp.csv',\n",
       " 'data\\\\earthpy-downloads\\\\avg-monthly-temp-fahr\\\\San-Diego\\\\San-Diego-2003-temp.csv']"
      ]
     },
     "execution_count": 34,
     "metadata": {},
     "output_type": "execute_result"
    }
   ],
   "source": [
    "sd_data = glob(os.path.join(data_folder, 'San-Diego', '*'))\n",
    "sd_data.sort()\n",
    "sd_data"
   ]
  },
  {
   "cell_type": "markdown",
   "id": "f94372df",
   "metadata": {},
   "source": [
    "## os Advanced Functionality\n"
   ]
  },
  {
   "cell_type": "code",
   "execution_count": 35,
   "id": "f33afc7f",
   "metadata": {},
   "outputs": [
    {
     "data": {
      "text/plain": [
       "'home\\\\user\\\\example_dir'"
      ]
     },
     "execution_count": 35,
     "metadata": {},
     "output_type": "execute_result"
    }
   ],
   "source": [
    "# Example of normpath cleaning up path\n",
    "example_path = \"home//user//example_dir\"\n",
    "os.path.normpath(example_path)"
   ]
  },
  {
   "cell_type": "code",
   "execution_count": 36,
   "id": "872e23e7",
   "metadata": {},
   "outputs": [
    {
     "data": {
      "text/plain": [
       "['data\\\\earthpy-downloads\\\\avg-monthly-temp-fahr\\\\San-Diego\\\\San-Diego-1999-temp.csv',\n",
       " 'data\\\\earthpy-downloads\\\\avg-monthly-temp-fahr\\\\San-Diego\\\\San-Diego-2000-temp.csv',\n",
       " 'data\\\\earthpy-downloads\\\\avg-monthly-temp-fahr\\\\San-Diego\\\\San-Diego-2001-temp.csv',\n",
       " 'data\\\\earthpy-downloads\\\\avg-monthly-temp-fahr\\\\San-Diego\\\\San-Diego-2002-temp.csv',\n",
       " 'data\\\\earthpy-downloads\\\\avg-monthly-temp-fahr\\\\San-Diego\\\\San-Diego-2003-temp.csv']"
      ]
     },
     "execution_count": 36,
     "metadata": {},
     "output_type": "execute_result"
    }
   ],
   "source": [
    "# Print list of files\n",
    "sd_data"
   ]
  },
  {
   "cell_type": "code",
   "execution_count": 37,
   "id": "9c324517",
   "metadata": {
    "collapsed": true
   },
   "outputs": [
    {
     "data": {
      "text/plain": [
       "'data\\\\earthpy-downloads\\\\avg-monthly-temp-fahr\\\\San-Diego'"
      ]
     },
     "execution_count": 37,
     "metadata": {},
     "output_type": "execute_result"
    }
   ],
   "source": [
    "# Get a shared directory from a list of files\n",
    "os.path.commonpath(sd_data)"
   ]
  },
  {
   "cell_type": "code",
   "execution_count": null,
   "id": "64e507cb",
   "metadata": {},
   "outputs": [],
   "source": [
    "os.path."
   ]
  }
 ],
 "metadata": {
  "kernelspec": {
   "display_name": "Python 3 (ipykernel)",
   "language": "python",
   "name": "python3"
  },
  "language_info": {
   "codemirror_mode": {
    "name": "ipython",
    "version": 3
   },
   "file_extension": ".py",
   "mimetype": "text/x-python",
   "name": "python",
   "nbconvert_exporter": "python",
   "pygments_lexer": "ipython3",
   "version": "3.8.12"
  }
 },
 "nbformat": 4,
 "nbformat_minor": 5
}
