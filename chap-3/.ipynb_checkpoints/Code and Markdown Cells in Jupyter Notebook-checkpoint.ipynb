{
 "cells": [
  {
   "cell_type": "code",
   "execution_count": null,
   "id": "9165ad45",
   "metadata": {},
   "outputs": [],
   "source": [
    "3 +4\n"
   ]
  },
  {
   "cell_type": "markdown",
   "id": "36b5b2c3",
   "metadata": {},
   "source": [
    "### This is a subtitle in Markdown\n",
    "#### This is a subtitle in Markdown\n",
    "##### This is a subtitle in Markdown"
   ]
  },
  {
   "cell_type": "markdown",
   "id": "fe38c779",
   "metadata": {},
   "source": []
  },
  {
   "cell_type": "code",
   "execution_count": null,
   "id": "f2f9b2a7",
   "metadata": {},
   "outputs": [],
   "source": []
  },
  {
   "cell_type": "code",
   "execution_count": null,
   "id": "2afd06f4",
   "metadata": {},
   "outputs": [],
   "source": []
  },
  {
   "cell_type": "code",
   "execution_count": null,
   "id": "0c9b3de8",
   "metadata": {},
   "outputs": [],
   "source": []
  },
  {
   "cell_type": "code",
   "execution_count": null,
   "id": "215f105d",
   "metadata": {},
   "outputs": [],
   "source": []
  }
 ],
 "metadata": {
  "kernelspec": {
   "display_name": "Python 3 (ipykernel)",
   "language": "python",
   "name": "python3"
  },
  "language_info": {
   "codemirror_mode": {
    "name": "ipython",
    "version": 3
   },
   "file_extension": ".py",
   "mimetype": "text/x-python",
   "name": "python",
   "nbconvert_exporter": "python",
   "pygments_lexer": "ipython3",
   "version": "3.8.12"
  }
 },
 "nbformat": 4,
 "nbformat_minor": 5
}
