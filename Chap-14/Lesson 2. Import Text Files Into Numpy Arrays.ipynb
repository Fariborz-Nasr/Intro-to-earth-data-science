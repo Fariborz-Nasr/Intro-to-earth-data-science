{
 "cells": [
  {
   "cell_type": "markdown",
   "id": "b024dbd7",
   "metadata": {},
   "source": [
    "## Get Data To Import Into Numpy Arrays"
   ]
  },
  {
   "cell_type": "code",
   "execution_count": 1,
   "id": "5becb264",
   "metadata": {},
   "outputs": [],
   "source": [
    "# Import necessary packages\n",
    "import os\n",
    "\n",
    "import numpy as np\n",
    "import earthpy as et"
   ]
  },
  {
   "cell_type": "code",
   "execution_count": 3,
   "id": "a42fa7ff",
   "metadata": {},
   "outputs": [
    {
     "name": "stdout",
     "output_type": "stream",
     "text": [
      "Downloading from https://ndownloader.figshare.com/files/12565616\n"
     ]
    },
    {
     "data": {
      "text/plain": [
       "'C:\\\\Users\\\\fnasr\\\\earth-analytics\\\\data\\\\earthpy-downloads\\\\avg-monthly-precip.txt'"
      ]
     },
     "execution_count": 3,
     "metadata": {},
     "output_type": "execute_result"
    }
   ],
   "source": [
    "# Define variable for URL to .txt with avg monthly precip data\n",
    "monthly_precip_url = \"https://ndownloader.figshare.com/files/12565616\"\n",
    "\n",
    "et.data.get_data(url = monthly_precip_url)"
   ]
  },
  {
   "cell_type": "code",
   "execution_count": 4,
   "id": "59745d53",
   "metadata": {},
   "outputs": [
    {
     "name": "stdout",
     "output_type": "stream",
     "text": [
      "Downloading from https://ndownloader.figshare.com/files/12565619\n"
     ]
    },
    {
     "data": {
      "text/plain": [
       "'C:\\\\Users\\\\fnasr\\\\earth-analytics\\\\data\\\\earthpy-downloads\\\\months.txt'"
      ]
     },
     "execution_count": 4,
     "metadata": {},
     "output_type": "execute_result"
    }
   ],
   "source": [
    "# Download data from URL to .txt with month names\n",
    "month_names_url = \"https://ndownloader.figshare.com/files/12565619\"\n",
    "\n",
    "et.data.get_data(url = month_names_url)"
   ]
  },
  {
   "cell_type": "code",
   "execution_count": 5,
   "id": "49c5eb85",
   "metadata": {},
   "outputs": [
    {
     "name": "stdout",
     "output_type": "stream",
     "text": [
      "Downloading from https://ndownloader.figshare.com/files/12707792\n"
     ]
    },
    {
     "data": {
      "text/plain": [
       "'C:\\\\Users\\\\fnasr\\\\earth-analytics\\\\data\\\\earthpy-downloads\\\\monthly-precip-2002-2013.csv'"
      ]
     },
     "execution_count": 5,
     "metadata": {},
     "output_type": "execute_result"
    }
   ],
   "source": [
    "# Download data from URL to .csv of precip data for 2002 and 2013\n",
    "precip_2002_2013_url = 'https://ndownloader.figshare.com/files/12707792'\n",
    "\n",
    "et.data.get_data(url = precip_2002_2013_url)\n"
   ]
  },
  {
   "cell_type": "markdown",
   "id": "10fa8f99",
   "metadata": {},
   "source": [
    "## Import Numeric Data from Text Files Into Numpy Arrays\n"
   ]
  },
  {
   "cell_type": "code",
   "execution_count": 10,
   "id": "e489775e",
   "metadata": {},
   "outputs": [],
   "source": [
    "# Set working directory to earth-analytics\n",
    "os.chdir(os.path.join(et.io.HOME, 'earth-analytics'))"
   ]
  },
  {
   "cell_type": "code",
   "execution_count": 14,
   "id": "03eafdac",
   "metadata": {},
   "outputs": [
    {
     "name": "stdout",
     "output_type": "stream",
     "text": [
      "[0.7  0.75 1.85 2.93 3.05 2.02 1.93 1.62 1.84 1.31 1.39 0.84]\n"
     ]
    }
   ],
   "source": [
    "fname = os.path.join('data', 'earthpy-downloads', 'avg-monthly-precip.txt')\n",
    "\n",
    "# Import average monthly precip to numpy array\n",
    "ave_monthly_precip = np.loadtxt(fname)\n",
    "print(ave_monthly_precip)"
   ]
  },
  {
   "cell_type": "code",
   "execution_count": 15,
   "id": "ffcd7d78",
   "metadata": {},
   "outputs": [
    {
     "data": {
      "text/plain": [
       "numpy.ndarray"
      ]
     },
     "execution_count": 15,
     "metadata": {},
     "output_type": "execute_result"
    }
   ],
   "source": [
    "type(ave_monthly_precip)"
   ]
  },
  {
   "cell_type": "code",
   "execution_count": 18,
   "id": "e563ff66",
   "metadata": {},
   "outputs": [
    {
     "name": "stdout",
     "output_type": "stream",
     "text": [
      "[[ 1.07  0.44  1.5   0.2   3.2   1.18  0.09  1.44  1.52  2.44  0.78  0.02]\n",
      " [ 0.27  1.13  1.72  4.14  2.66  0.61  1.03  1.4  18.16  2.24  0.29  0.5 ]]\n"
     ]
    }
   ],
   "source": [
    "# Import monthly precip for 2002 and 2013 to numpy array\n",
    "fname1 = os.path.join('data', 'earthpy-downloads', 'monthly-precip-2002-2013.csv')\n",
    "precip_2002_2013 = np.loadtxt(fname1, delimiter=',')\n",
    "print(precip_2002_2013)\n"
   ]
  },
  {
   "cell_type": "code",
   "execution_count": 19,
   "id": "60ab46fa",
   "metadata": {},
   "outputs": [
    {
     "data": {
      "text/plain": [
       "numpy.ndarray"
      ]
     },
     "execution_count": 19,
     "metadata": {},
     "output_type": "execute_result"
    }
   ],
   "source": [
    "type(precip_2002_2013)"
   ]
  },
  {
   "cell_type": "code",
   "execution_count": 23,
   "id": "78969224",
   "metadata": {},
   "outputs": [
    {
     "name": "stdout",
     "output_type": "stream",
     "text": [
      "['Jan' 'Feb' 'Mar' 'Apr' 'May' 'June' 'July' 'Aug' 'Sept' 'Oct' 'Nov'\n",
      " 'Dec']\n"
     ]
    }
   ],
   "source": [
    "# Import month names\n",
    "fname2 = os.path.join('data', 'earthpy-downloads', 'months.txt')\n",
    "months = np.genfromtxt(fname2, dtype='str')\n",
    "print(months)"
   ]
  },
  {
   "cell_type": "code",
   "execution_count": 22,
   "id": "aa8b16f1",
   "metadata": {},
   "outputs": [
    {
     "data": {
      "text/plain": [
       "numpy.ndarray"
      ]
     },
     "execution_count": 22,
     "metadata": {},
     "output_type": "execute_result"
    }
   ],
   "source": [
    "type(months)"
   ]
  },
  {
   "cell_type": "code",
   "execution_count": null,
   "id": "fcf7707b",
   "metadata": {},
   "outputs": [],
   "source": []
  }
 ],
 "metadata": {
  "kernelspec": {
   "display_name": "Python 3 (ipykernel)",
   "language": "python",
   "name": "python3"
  },
  "language_info": {
   "codemirror_mode": {
    "name": "ipython",
    "version": 3
   },
   "file_extension": ".py",
   "mimetype": "text/x-python",
   "name": "python",
   "nbconvert_exporter": "python",
   "pygments_lexer": "ipython3",
   "version": "3.8.12"
  }
 },
 "nbformat": 4,
 "nbformat_minor": 5
}
