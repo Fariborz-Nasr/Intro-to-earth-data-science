{
 "cells": [
  {
   "cell_type": "markdown",
   "id": "97a02132",
   "metadata": {},
   "source": [
    "## Import Python Packages and Get Data"
   ]
  },
  {
   "cell_type": "code",
   "execution_count": 1,
   "id": "2c4f9765",
   "metadata": {},
   "outputs": [],
   "source": [
    "# Improt ncessary packages\n",
    "import os\n",
    "import numpy as np\n",
    "import earthpy as et\n"
   ]
  },
  {
   "cell_type": "code",
   "execution_count": 6,
   "id": "61bd7a16",
   "metadata": {},
   "outputs": [
    {
     "data": {
      "text/plain": [
       "'C:\\\\Users\\\\fnasr\\\\earth-analytics\\\\data\\\\earthpy-downloads\\\\monthly-precip-2002-2013.csv'"
      ]
     },
     "execution_count": 6,
     "metadata": {},
     "output_type": "execute_result"
    }
   ],
   "source": [
    "# Download .txt with avg monthly precip (inches)\n",
    "monthly_precip_url = 'https://ndownloader.figshare.com/files/12565616'\n",
    "et.data.get_data(url=monthly_precip_url)\n",
    "\n",
    "# Download .csv of precip data for 2002 and 2013 (inches)\n",
    "precip_2002_2013_url = 'https://ndownloader.figshare.com/files/12707792'\n",
    "et.data.get_data(url=precip_2002_2013_url)"
   ]
  },
  {
   "cell_type": "code",
   "execution_count": 7,
   "id": "29909e7a",
   "metadata": {},
   "outputs": [],
   "source": [
    "# Set working directory to earth-analytics\n",
    "os.chdir(os.path.join(et.io.HOME, 'earth-analytics'))"
   ]
  },
  {
   "cell_type": "code",
   "execution_count": 10,
   "id": "6dbf8b76",
   "metadata": {},
   "outputs": [
    {
     "name": "stdout",
     "output_type": "stream",
     "text": [
      "[0.7  0.75 1.85 2.93 3.05 2.02 1.93 1.62 1.84 1.31 1.39 0.84]\n"
     ]
    }
   ],
   "source": [
    "# Import average monthly precip to numpy array\n",
    "fname = os.path.join('data', 'earthpy-downloads', 'avg-monthly-precip.txt')\n",
    "ave_monthly_precip = np.loadtxt(fname)\n",
    "print(ave_monthly_precip)"
   ]
  },
  {
   "cell_type": "code",
   "execution_count": 11,
   "id": "c1587716",
   "metadata": {},
   "outputs": [
    {
     "name": "stdout",
     "output_type": "stream",
     "text": [
      "[[ 1.07  0.44  1.5   0.2   3.2   1.18  0.09  1.44  1.52  2.44  0.78  0.02]\n",
      " [ 0.27  1.13  1.72  4.14  2.66  0.61  1.03  1.4  18.16  2.24  0.29  0.5 ]]\n"
     ]
    }
   ],
   "source": [
    "# Import monthly precip for 2002 and 2013 to numpy array\n",
    "fname1 = os.path.join('data', 'earthpy-downloads', 'monthly-precip-2002-2013.csv')\n",
    "precip_2002_2013 = np.loadtxt(fname1, delimiter=',')\n",
    "print(precip_2002_2013)"
   ]
  },
  {
   "cell_type": "markdown",
   "id": "e0bb2c23",
   "metadata": {},
   "source": [
    "## Check Dimensions and Shape of Numpy Arrays\n"
   ]
  },
  {
   "cell_type": "code",
   "execution_count": 13,
   "id": "61ab47a7",
   "metadata": {},
   "outputs": [
    {
     "data": {
      "text/plain": [
       "1"
      ]
     },
     "execution_count": 13,
     "metadata": {},
     "output_type": "execute_result"
    }
   ],
   "source": [
    "ave_monthly_precip.ndim"
   ]
  },
  {
   "cell_type": "code",
   "execution_count": 14,
   "id": "d863544a",
   "metadata": {},
   "outputs": [
    {
     "data": {
      "text/plain": [
       "2"
      ]
     },
     "execution_count": 14,
     "metadata": {},
     "output_type": "execute_result"
    }
   ],
   "source": [
    "precip_2002_2013.ndim"
   ]
  },
  {
   "cell_type": "code",
   "execution_count": 15,
   "id": "82be5a0f",
   "metadata": {},
   "outputs": [
    {
     "data": {
      "text/plain": [
       "(12,)"
      ]
     },
     "execution_count": 15,
     "metadata": {},
     "output_type": "execute_result"
    }
   ],
   "source": [
    "ave_monthly_precip.shape"
   ]
  },
  {
   "cell_type": "code",
   "execution_count": 16,
   "id": "ff259e23",
   "metadata": {},
   "outputs": [
    {
     "data": {
      "text/plain": [
       "(2, 12)"
      ]
     },
     "execution_count": 16,
     "metadata": {},
     "output_type": "execute_result"
    }
   ],
   "source": [
    "precip_2002_2013.shape"
   ]
  },
  {
   "cell_type": "code",
   "execution_count": 17,
   "id": "7e228d9c",
   "metadata": {},
   "outputs": [],
   "source": [
    "# Use assignment operator to convert values from in to mm\n",
    "ave_monthly_precip *= 25.4"
   ]
  },
  {
   "cell_type": "code",
   "execution_count": 18,
   "id": "383cd22b",
   "metadata": {},
   "outputs": [
    {
     "data": {
      "text/plain": [
       "array([17.78 , 19.05 , 46.99 , 74.422, 77.47 , 51.308, 49.022, 41.148,\n",
       "       46.736, 33.274, 35.306, 21.336])"
      ]
     },
     "execution_count": 18,
     "metadata": {},
     "output_type": "execute_result"
    }
   ],
   "source": [
    "ave_monthly_precip"
   ]
  },
  {
   "cell_type": "code",
   "execution_count": 19,
   "id": "5839432a",
   "metadata": {},
   "outputs": [
    {
     "name": "stdout",
     "output_type": "stream",
     "text": [
      "[[ 1.07  0.44  1.5   0.2   3.2   1.18  0.09  1.44  1.52  2.44  0.78  0.02]\n",
      " [ 0.27  1.13  1.72  4.14  2.66  0.61  1.03  1.4  18.16  2.24  0.29  0.5 ]]\n"
     ]
    }
   ],
   "source": [
    "print(precip_2002_2013)"
   ]
  },
  {
   "cell_type": "code",
   "execution_count": 20,
   "id": "30dfd5f7",
   "metadata": {},
   "outputs": [
    {
     "data": {
      "text/plain": [
       "array([[ 27.178,  11.176,  38.1  ,   5.08 ,  81.28 ,  29.972,   2.286,\n",
       "         36.576,  38.608,  61.976,  19.812,   0.508],\n",
       "       [  6.858,  28.702,  43.688, 105.156,  67.564,  15.494,  26.162,\n",
       "         35.56 , 461.264,  56.896,   7.366,  12.7  ]])"
      ]
     },
     "execution_count": 20,
     "metadata": {},
     "output_type": "execute_result"
    }
   ],
   "source": [
    "precip_2002_2013 *= 25.4\n",
    "precip_2002_2013\n"
   ]
  },
  {
   "cell_type": "code",
   "execution_count": 21,
   "id": "f73dac08",
   "metadata": {},
   "outputs": [
    {
     "name": "stdout",
     "output_type": "stream",
     "text": [
      "[[ 27.178  11.176  38.1     5.08   81.28   29.972   2.286  36.576  38.608\n",
      "   61.976  19.812   0.508]\n",
      " [  6.858  28.702  43.688 105.156  67.564  15.494  26.162  35.56  461.264\n",
      "   56.896   7.366  12.7  ]]\n"
     ]
    }
   ],
   "source": [
    "print(precip_2002_2013)"
   ]
  },
  {
   "cell_type": "markdown",
   "id": "29d3b10b",
   "metadata": {},
   "source": [
    "## Run Summary Statistics on One-dimensional Numpy Arrays"
   ]
  },
  {
   "cell_type": "code",
   "execution_count": 23,
   "id": "8ed02f2e",
   "metadata": {},
   "outputs": [
    {
     "name": "stdout",
     "output_type": "stream",
     "text": [
      "mean average monthly precipitation: 42.820166666666665\n"
     ]
    }
   ],
   "source": [
    "# Create variable with mean value\n",
    "mean_ave_precip = np.mean(ave_monthly_precip)\n",
    "\n",
    "print('mean average monthly precipitation:', mean_ave_precip)"
   ]
  },
  {
   "cell_type": "code",
   "execution_count": 24,
   "id": "1ffb801f",
   "metadata": {},
   "outputs": [
    {
     "name": "stdout",
     "output_type": "stream",
     "text": [
      "median average precipitation 43.942\n"
     ]
    }
   ],
   "source": [
    "# Create variable with median value\n",
    "medina_ave_precip = np.median(ave_monthly_precip)\n",
    "\n",
    "print(\"median average precipitation\", medina_ave_precip)"
   ]
  },
  {
   "cell_type": "code",
   "execution_count": 26,
   "id": "ee18302e",
   "metadata": {},
   "outputs": [
    {
     "name": "stdout",
     "output_type": "stream",
     "text": [
      "minimum average precipitation 17.779999999999998\n",
      "maximum average precipitation 77.46999999999998\n"
     ]
    }
   ],
   "source": [
    "# Calculate and print minimum and maximum values\n",
    "min_ave_precip = np.min(ave_monthly_precip)\n",
    "print(\"minimum average precipitation\", min_ave_precip)\n",
    "print(\"maximum average precipitation\", np.max(ave_monthly_precip))"
   ]
  },
  {
   "cell_type": "markdown",
   "id": "b1388abe",
   "metadata": {},
   "source": [
    "## Calculate Summary Statistics Across Rows"
   ]
  },
  {
   "cell_type": "code",
   "execution_count": 27,
   "id": "b2f8faa6",
   "metadata": {},
   "outputs": [
    {
     "name": "stdout",
     "output_type": "stream",
     "text": [
      "[[ 27.178  11.176  38.1     5.08   81.28   29.972   2.286  36.576  38.608\n",
      "   61.976  19.812   0.508]\n",
      " [  6.858  28.702  43.688 105.156  67.564  15.494  26.162  35.56  461.264\n",
      "   56.896   7.366  12.7  ]]\n"
     ]
    }
   ],
   "source": [
    "# Visually identify max value across the rows of precip_2002_2013\n",
    "print(precip_2002_2013)"
   ]
  },
  {
   "cell_type": "code",
   "execution_count": 28,
   "id": "1dc24ab9",
   "metadata": {},
   "outputs": [
    {
     "name": "stdout",
     "output_type": "stream",
     "text": [
      "[ 27.178  28.702  43.688 105.156  81.28   29.972  26.162  36.576 461.264\n",
      "  61.976  19.812  12.7  ]\n"
     ]
    }
   ],
   "source": [
    "# Maximum value for each month across years 2002 and 2013\n",
    "print(np.max(precip_2002_2013, axis=0))"
   ]
  },
  {
   "cell_type": "code",
   "execution_count": 29,
   "id": "a82847a0",
   "metadata": {},
   "outputs": [
    {
     "data": {
      "text/plain": [
       "numpy.ndarray"
      ]
     },
     "execution_count": 29,
     "metadata": {},
     "output_type": "execute_result"
    }
   ],
   "source": [
    "# Create new array of the maximum value for each month\n",
    "precip_2002_2013_monthly_max = np.max(precip_2002_2013, axis=0)\n",
    "\n",
    "type(precip_2002_2013_monthly_max)"
   ]
  },
  {
   "cell_type": "code",
   "execution_count": 30,
   "id": "48e30fbd",
   "metadata": {},
   "outputs": [
    {
     "name": "stdout",
     "output_type": "stream",
     "text": [
      "[[ 27.178  11.176  38.1     5.08   81.28   29.972   2.286  36.576  38.608\n",
      "   61.976  19.812   0.508]\n",
      " [  6.858  28.702  43.688 105.156  67.564  15.494  26.162  35.56  461.264\n",
      "   56.896   7.366  12.7  ]]\n"
     ]
    }
   ],
   "source": [
    "# Visually identify max value across the rows of precip_2002_2013\n",
    "print(precip_2002_2013)"
   ]
  },
  {
   "cell_type": "code",
   "execution_count": 32,
   "id": "809191f9",
   "metadata": {},
   "outputs": [
    {
     "name": "stdout",
     "output_type": "stream",
     "text": [
      "[ 81.28  461.264]\n"
     ]
    }
   ],
   "source": [
    "# Maximum value for each year 2002 and 2013\n",
    "print(np.max(precip_2002_2013, axis=1))"
   ]
  },
  {
   "cell_type": "code",
   "execution_count": null,
   "id": "f5b0e937",
   "metadata": {},
   "outputs": [],
   "source": []
  }
 ],
 "metadata": {
  "kernelspec": {
   "display_name": "Python 3 (ipykernel)",
   "language": "python",
   "name": "python3"
  },
  "language_info": {
   "codemirror_mode": {
    "name": "ipython",
    "version": 3
   },
   "file_extension": ".py",
   "mimetype": "text/x-python",
   "name": "python",
   "nbconvert_exporter": "python",
   "pygments_lexer": "ipython3",
   "version": "3.8.12"
  }
 },
 "nbformat": 4,
 "nbformat_minor": 5
}
