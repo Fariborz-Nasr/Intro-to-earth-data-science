{
 "cells": [
  {
   "cell_type": "markdown",
   "id": "91ea0213",
   "metadata": {},
   "source": [
    "## Intro to Earth Analytics - Chapter Four"
   ]
  },
  {
   "cell_type": "markdown",
   "id": "945b0e64",
   "metadata": {},
   "source": [
    "* Author:\n",
    "* Date:"
   ]
  },
  {
   "cell_type": "markdown",
   "id": "336c34ca",
   "metadata": {},
   "source": [
    "*bluberries*\n",
    "\n",
    "<a href=\"https://www.lindtusa.com/all-chocolate-bars-and-sticks--sc4#facet:&productBeginIndex:0&facetLimit:&orderBy:&pageView:grid&minPrice:&maxPrice:&pageSize:&\" target=\"_blank\">chocolate-bar</a>\n",
    "\n",
    "![Avocado](https://pngimg.com/uploads/avocado/avocado_PNG15518.png)"
   ]
  },
  {
   "cell_type": "code",
   "execution_count": null,
   "id": "41ddd986",
   "metadata": {},
   "outputs": [],
   "source": []
  }
 ],
 "metadata": {
  "kernelspec": {
   "display_name": "Python 3 (ipykernel)",
   "language": "python",
   "name": "python3"
  },
  "language_info": {
   "codemirror_mode": {
    "name": "ipython",
    "version": 3
   },
   "file_extension": ".py",
   "mimetype": "text/x-python",
   "name": "python",
   "nbconvert_exporter": "python",
   "pygments_lexer": "ipython3",
   "version": "3.8.12"
  }
 },
 "nbformat": 4,
 "nbformat_minor": 5
}
